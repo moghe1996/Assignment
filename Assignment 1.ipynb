{
 "cells": [
  {
   "cell_type": "code",
   "execution_count": 1,
   "id": "5138633b",
   "metadata": {},
   "outputs": [],
   "source": [
    "# who developed python programming language ?"
   ]
  },
  {
   "cell_type": "code",
   "execution_count": 2,
   "id": "f87c63ac",
   "metadata": {},
   "outputs": [],
   "source": [
    "# Guido van Rossum"
   ]
  },
  {
   "cell_type": "code",
   "execution_count": 3,
   "id": "6e436294",
   "metadata": {},
   "outputs": [],
   "source": [
    "#which type of programming does python support ?"
   ]
  },
  {
   "cell_type": "code",
   "execution_count": 9,
   "id": "7d30cc26",
   "metadata": {},
   "outputs": [],
   "source": [
    "#\"Python is a multi-paradigm programming language. \n",
    "#and many of their features support functional programming \n"
   ]
  },
  {
   "cell_type": "code",
   "execution_count": null,
   "id": "e33badad",
   "metadata": {},
   "outputs": [],
   "source": [
    "# is python case is sensitive when dealing with identifiers ?"
   ]
  },
  {
   "cell_type": "code",
   "execution_count": null,
   "id": "0d872ae7",
   "metadata": {},
   "outputs": [],
   "source": [
    "#Yes, Python is a case-sensitive language, i.e., \n",
    "#it treats uppercase and lowercase characters differently."
   ]
  },
  {
   "cell_type": "code",
   "execution_count": 10,
   "id": "3e73acb7",
   "metadata": {},
   "outputs": [],
   "source": [
    "#what is the correct extension of the python file?"
   ]
  },
  {
   "cell_type": "code",
   "execution_count": 12,
   "id": "3cfcb3a3",
   "metadata": {},
   "outputs": [],
   "source": [
    "#The extensions for Python files are - . py, . pyi, ."
   ]
  },
  {
   "cell_type": "code",
   "execution_count": null,
   "id": "6461d175",
   "metadata": {},
   "outputs": [],
   "source": [
    "#is python code compiled or interpreted? "
   ]
  },
  {
   "cell_type": "code",
   "execution_count": null,
   "id": "aa8f1229",
   "metadata": {},
   "outputs": [],
   "source": [
    "#Python is an interpreted language, \n",
    "#which means the source code of a Python program is converted \n",
    "#into bytecode that is then executed by the Python virtual machine. \n",
    "#Python is different from major compiled languages, such as C and C + +, \n",
    "#as Python code is not required to be built and linked like code for these languages."
   ]
  },
  {
   "cell_type": "code",
   "execution_count": null,
   "id": "511613aa",
   "metadata": {},
   "outputs": [],
   "source": [
    "#name a few block of code used to define in python language ?"
   ]
  },
  {
   "cell_type": "code",
   "execution_count": null,
   "id": "15b825fd",
   "metadata": {},
   "outputs": [],
   "source": [
    "#Indentation (:) is used to define a block of code in python. "
   ]
  },
  {
   "cell_type": "code",
   "execution_count": null,
   "id": "2056898f",
   "metadata": {},
   "outputs": [],
   "source": [
    "# state a character used to give single line comment in python ?"
   ]
  },
  {
   "cell_type": "code",
   "execution_count": null,
   "id": "63cb213a",
   "metadata": {},
   "outputs": [],
   "source": [
    "# Hash character(#)"
   ]
  },
  {
   "cell_type": "code",
   "execution_count": null,
   "id": "f9293105",
   "metadata": {},
   "outputs": [],
   "source": []
  },
  {
   "cell_type": "code",
   "execution_count": null,
   "id": "46799906",
   "metadata": {},
   "outputs": [],
   "source": []
  },
  {
   "cell_type": "code",
   "execution_count": null,
   "id": "973d92e5",
   "metadata": {},
   "outputs": [],
   "source": [
    "# The function sys. version"
   ]
  },
  {
   "cell_type": "code",
   "execution_count": null,
   "id": "d49e756c",
   "metadata": {},
   "outputs": [],
   "source": [
    "#python supports the creation of anonymous functions at runtime using a construct called ?"
   ]
  },
  {
   "cell_type": "code",
   "execution_count": 13,
   "id": "7f5f7343",
   "metadata": {},
   "outputs": [],
   "source": [
    "#Python supports to make anonymous functions which are not bound to a name(@ runtime).\n",
    "#It uses a construct called \"lambda\" ."
   ]
  },
  {
   "cell_type": "code",
   "execution_count": null,
   "id": "ab80efc0",
   "metadata": {},
   "outputs": [],
   "source": [
    "#what does pip stand for python ?"
   ]
  },
  {
   "cell_type": "code",
   "execution_count": 14,
   "id": "1aa015b5",
   "metadata": {},
   "outputs": [],
   "source": [
    "#preferred installer program .\n"
   ]
  },
  {
   "cell_type": "code",
   "execution_count": 15,
   "id": "2bef1d32",
   "metadata": {},
   "outputs": [],
   "source": [
    "#mention few built in functions in python ?"
   ]
  },
  {
   "cell_type": "code",
   "execution_count": 16,
   "id": "3ff49d2e",
   "metadata": {},
   "outputs": [
    {
     "ename": "SyntaxError",
     "evalue": "invalid syntax (3883746349.py, line 1)",
     "output_type": "error",
     "traceback": [
      "\u001b[0;36m  File \u001b[0;32m\"/var/folders/3d/7jkdyvrj7hg6cg5x6dfq5_qr0000gn/T/ipykernel_6272/3883746349.py\"\u001b[0;36m, line \u001b[0;32m1\u001b[0m\n\u001b[0;31m    print( ) function\u001b[0m\n\u001b[0m             ^\u001b[0m\n\u001b[0;31mSyntaxError\u001b[0m\u001b[0;31m:\u001b[0m invalid syntax\n"
     ]
    }
   ],
   "source": [
    "print( ) function\n",
    "type( ) function\n",
    "input( ) function\n",
    "abs( ) function\n",
    "pow( ) function\n",
    "dir( ) function\n",
    "sorted( ) function\n",
    "max( ) function\n",
    "round( ) function\n",
    "divmod( ) function\n",
    "id( ) function\n",
    "ord( ) function\n",
    "len( ) function\n",
    "sum( ) function\n",
    "help( ) function"
   ]
  },
  {
   "cell_type": "code",
   "execution_count": 17,
   "id": "90aa1e58",
   "metadata": {},
   "outputs": [],
   "source": [
    "#what is maximum possible length of an identifier in python ."
   ]
  },
  {
   "cell_type": "code",
   "execution_count": 18,
   "id": "576327ea",
   "metadata": {},
   "outputs": [],
   "source": [
    "#An identifier can have a maximum length of 79 characters in Python . "
   ]
  },
  {
   "cell_type": "code",
   "execution_count": 19,
   "id": "d9cc2753",
   "metadata": {},
   "outputs": [],
   "source": [
    "#what are benefits for using python ?"
   ]
  },
  {
   "cell_type": "code",
   "execution_count": 20,
   "id": "6c7c5137",
   "metadata": {},
   "outputs": [],
   "source": [
    "# flexible, simple , security ,wide range of libraries ,It's Simple\n",
    "#It's Free\n",
    "#It's Highly Compatible \n",
    "#It is Object-Oriented\n",
    "#It has Lots of Libraries\n",
    "#It has Built-in Data Structures\n",
    "#It's Widely Applicable\n",
    "#It Increases Speed and Productivity\n",
    "#It's Easy to Learn "
   ]
  },
  {
   "cell_type": "code",
   "execution_count": null,
   "id": "af8f147b",
   "metadata": {},
   "outputs": [],
   "source": []
  }
 ],
 "metadata": {
  "kernelspec": {
   "display_name": "Python 3 (ipykernel)",
   "language": "python",
   "name": "python3"
  },
  "language_info": {
   "codemirror_mode": {
    "name": "ipython",
    "version": 3
   },
   "file_extension": ".py",
   "mimetype": "text/x-python",
   "name": "python",
   "nbconvert_exporter": "python",
   "pygments_lexer": "ipython3",
   "version": "3.9.13"
  }
 },
 "nbformat": 4,
 "nbformat_minor": 5
}
